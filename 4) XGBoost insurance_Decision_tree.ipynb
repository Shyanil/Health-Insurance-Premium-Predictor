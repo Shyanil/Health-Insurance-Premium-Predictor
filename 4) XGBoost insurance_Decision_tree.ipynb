{
 "cells": [
  {
   "cell_type": "code",
   "execution_count": null,
   "metadata": {
    "colab": {
     "base_uri": "https://localhost:8080/"
    },
    "executionInfo": {
     "elapsed": 45183,
     "status": "ok",
     "timestamp": 1738862428955,
     "user": {
      "displayName": "Shyanil Mishra",
      "userId": "02076940410951200209"
     },
     "user_tz": -330
    },
    "id": "JNSe3L3eOpLZ",
    "outputId": "8756b074-1fcd-40c0-b750-74026df2b426"
   },
   "outputs": [
    {
     "name": "stdout",
     "output_type": "stream",
     "text": [
      "Once deleted, variables cannot be recovered. Proceed (y/[n])? y\n"
     ]
    }
   ],
   "source": [
    "# %reset"
   ]
  },
  {
   "cell_type": "code",
   "execution_count": null,
   "metadata": {
    "colab": {
     "base_uri": "https://localhost:8080/"
    },
    "executionInfo": {
     "elapsed": 24172,
     "status": "ok",
     "timestamp": 1738862459677,
     "user": {
      "displayName": "Shyanil Mishra",
      "userId": "02076940410951200209"
     },
     "user_tz": -330
    },
    "id": "lIYdn1woOS1n",
    "outputId": "70141b30-24eb-49bf-e1c4-383c23e0efc3"
   },
   "outputs": [
    {
     "name": "stdout",
     "output_type": "stream",
     "text": [
      "Mounted at /content/drive\n"
     ]
    }
   ],
   "source": [
    "# from google.colab import drive\n",
    "# drive.mount('/content/drive')"
   ]
  },
  {
   "cell_type": "markdown",
   "metadata": {
    "id": "8YswgrAnJo-9"
   },
   "source": [
    "###Essential"
   ]
  },
  {
   "cell_type": "code",
   "execution_count": null,
   "metadata": {
    "id": "8hSclj3yHDFT"
   },
   "outputs": [],
   "source": [
    "import numpy as np\n",
    "import matplotlib.pyplot as plt\n",
    "import seaborn as sns\n",
    "import pandas as pd\n",
    "from sklearn.model_selection import train_test_split\n",
    "from sklearn.metrics import  mean_squared_error , mean_absolute_error , mean_absolute_percentage_error"
   ]
  },
  {
   "cell_type": "code",
   "execution_count": null,
   "metadata": {
    "colab": {
     "base_uri": "https://localhost:8080/",
     "height": 206
    },
    "executionInfo": {
     "elapsed": 583,
     "status": "ok",
     "timestamp": 1738862462280,
     "user": {
      "displayName": "Shyanil Mishra",
      "userId": "02076940410951200209"
     },
     "user_tz": -330
    },
    "id": "52edUQSXG_et",
    "outputId": "3606ab97-0da5-4fe2-c703-2c150607a94a"
   },
   "outputs": [
    {
     "data": {
      "application/vnd.google.colaboratory.intrinsic+json": {
       "summary": "{\n  \"name\": \"df\",\n  \"rows\": 1338,\n  \"fields\": [\n    {\n      \"column\": \"age\",\n      \"properties\": {\n        \"dtype\": \"number\",\n        \"std\": 14,\n        \"min\": 18,\n        \"max\": 64,\n        \"num_unique_values\": 47,\n        \"samples\": [\n          21,\n          45,\n          36\n        ],\n        \"semantic_type\": \"\",\n        \"description\": \"\"\n      }\n    },\n    {\n      \"column\": \"sex\",\n      \"properties\": {\n        \"dtype\": \"category\",\n        \"num_unique_values\": 2,\n        \"samples\": [\n          \"male\",\n          \"female\"\n        ],\n        \"semantic_type\": \"\",\n        \"description\": \"\"\n      }\n    },\n    {\n      \"column\": \"bmi\",\n      \"properties\": {\n        \"dtype\": \"number\",\n        \"std\": 6.098186911679017,\n        \"min\": 15.96,\n        \"max\": 53.13,\n        \"num_unique_values\": 548,\n        \"samples\": [\n          23.18,\n          26.885\n        ],\n        \"semantic_type\": \"\",\n        \"description\": \"\"\n      }\n    },\n    {\n      \"column\": \"children\",\n      \"properties\": {\n        \"dtype\": \"number\",\n        \"std\": 1,\n        \"min\": 0,\n        \"max\": 5,\n        \"num_unique_values\": 6,\n        \"samples\": [\n          0,\n          1\n        ],\n        \"semantic_type\": \"\",\n        \"description\": \"\"\n      }\n    },\n    {\n      \"column\": \"smoker\",\n      \"properties\": {\n        \"dtype\": \"category\",\n        \"num_unique_values\": 2,\n        \"samples\": [\n          \"no\",\n          \"yes\"\n        ],\n        \"semantic_type\": \"\",\n        \"description\": \"\"\n      }\n    },\n    {\n      \"column\": \"region\",\n      \"properties\": {\n        \"dtype\": \"category\",\n        \"num_unique_values\": 4,\n        \"samples\": [\n          \"southeast\",\n          \"northeast\"\n        ],\n        \"semantic_type\": \"\",\n        \"description\": \"\"\n      }\n    },\n    {\n      \"column\": \"charges\",\n      \"properties\": {\n        \"dtype\": \"number\",\n        \"std\": 12110.011236693994,\n        \"min\": 1121.8739,\n        \"max\": 63770.42801,\n        \"num_unique_values\": 1337,\n        \"samples\": [\n          8688.85885,\n          5708.867\n        ],\n        \"semantic_type\": \"\",\n        \"description\": \"\"\n      }\n    }\n  ]\n}",
       "type": "dataframe",
       "variable_name": "df"
      },
      "text/html": [
       "\n",
       "  <div id=\"df-379c57b8-3692-4c48-9af2-7ba9c498cf42\" class=\"colab-df-container\">\n",
       "    <div>\n",
       "<style scoped>\n",
       "    .dataframe tbody tr th:only-of-type {\n",
       "        vertical-align: middle;\n",
       "    }\n",
       "\n",
       "    .dataframe tbody tr th {\n",
       "        vertical-align: top;\n",
       "    }\n",
       "\n",
       "    .dataframe thead th {\n",
       "        text-align: right;\n",
       "    }\n",
       "</style>\n",
       "<table border=\"1\" class=\"dataframe\">\n",
       "  <thead>\n",
       "    <tr style=\"text-align: right;\">\n",
       "      <th></th>\n",
       "      <th>age</th>\n",
       "      <th>sex</th>\n",
       "      <th>bmi</th>\n",
       "      <th>children</th>\n",
       "      <th>smoker</th>\n",
       "      <th>region</th>\n",
       "      <th>charges</th>\n",
       "    </tr>\n",
       "  </thead>\n",
       "  <tbody>\n",
       "    <tr>\n",
       "      <th>0</th>\n",
       "      <td>19</td>\n",
       "      <td>female</td>\n",
       "      <td>27.900</td>\n",
       "      <td>0</td>\n",
       "      <td>yes</td>\n",
       "      <td>southwest</td>\n",
       "      <td>16884.92400</td>\n",
       "    </tr>\n",
       "    <tr>\n",
       "      <th>1</th>\n",
       "      <td>18</td>\n",
       "      <td>male</td>\n",
       "      <td>33.770</td>\n",
       "      <td>1</td>\n",
       "      <td>no</td>\n",
       "      <td>southeast</td>\n",
       "      <td>1725.55230</td>\n",
       "    </tr>\n",
       "    <tr>\n",
       "      <th>2</th>\n",
       "      <td>28</td>\n",
       "      <td>male</td>\n",
       "      <td>33.000</td>\n",
       "      <td>3</td>\n",
       "      <td>no</td>\n",
       "      <td>southeast</td>\n",
       "      <td>4449.46200</td>\n",
       "    </tr>\n",
       "    <tr>\n",
       "      <th>3</th>\n",
       "      <td>33</td>\n",
       "      <td>male</td>\n",
       "      <td>22.705</td>\n",
       "      <td>0</td>\n",
       "      <td>no</td>\n",
       "      <td>northwest</td>\n",
       "      <td>21984.47061</td>\n",
       "    </tr>\n",
       "    <tr>\n",
       "      <th>4</th>\n",
       "      <td>32</td>\n",
       "      <td>male</td>\n",
       "      <td>28.880</td>\n",
       "      <td>0</td>\n",
       "      <td>no</td>\n",
       "      <td>northwest</td>\n",
       "      <td>3866.85520</td>\n",
       "    </tr>\n",
       "  </tbody>\n",
       "</table>\n",
       "</div>\n",
       "    <div class=\"colab-df-buttons\">\n",
       "\n",
       "  <div class=\"colab-df-container\">\n",
       "    <button class=\"colab-df-convert\" onclick=\"convertToInteractive('df-379c57b8-3692-4c48-9af2-7ba9c498cf42')\"\n",
       "            title=\"Convert this dataframe to an interactive table.\"\n",
       "            style=\"display:none;\">\n",
       "\n",
       "  <svg xmlns=\"http://www.w3.org/2000/svg\" height=\"24px\" viewBox=\"0 -960 960 960\">\n",
       "    <path d=\"M120-120v-720h720v720H120Zm60-500h600v-160H180v160Zm220 220h160v-160H400v160Zm0 220h160v-160H400v160ZM180-400h160v-160H180v160Zm440 0h160v-160H620v160ZM180-180h160v-160H180v160Zm440 0h160v-160H620v160Z\"/>\n",
       "  </svg>\n",
       "    </button>\n",
       "\n",
       "  <style>\n",
       "    .colab-df-container {\n",
       "      display:flex;\n",
       "      gap: 12px;\n",
       "    }\n",
       "\n",
       "    .colab-df-convert {\n",
       "      background-color: #E8F0FE;\n",
       "      border: none;\n",
       "      border-radius: 50%;\n",
       "      cursor: pointer;\n",
       "      display: none;\n",
       "      fill: #1967D2;\n",
       "      height: 32px;\n",
       "      padding: 0 0 0 0;\n",
       "      width: 32px;\n",
       "    }\n",
       "\n",
       "    .colab-df-convert:hover {\n",
       "      background-color: #E2EBFA;\n",
       "      box-shadow: 0px 1px 2px rgba(60, 64, 67, 0.3), 0px 1px 3px 1px rgba(60, 64, 67, 0.15);\n",
       "      fill: #174EA6;\n",
       "    }\n",
       "\n",
       "    .colab-df-buttons div {\n",
       "      margin-bottom: 4px;\n",
       "    }\n",
       "\n",
       "    [theme=dark] .colab-df-convert {\n",
       "      background-color: #3B4455;\n",
       "      fill: #D2E3FC;\n",
       "    }\n",
       "\n",
       "    [theme=dark] .colab-df-convert:hover {\n",
       "      background-color: #434B5C;\n",
       "      box-shadow: 0px 1px 3px 1px rgba(0, 0, 0, 0.15);\n",
       "      filter: drop-shadow(0px 1px 2px rgba(0, 0, 0, 0.3));\n",
       "      fill: #FFFFFF;\n",
       "    }\n",
       "  </style>\n",
       "\n",
       "    <script>\n",
       "      const buttonEl =\n",
       "        document.querySelector('#df-379c57b8-3692-4c48-9af2-7ba9c498cf42 button.colab-df-convert');\n",
       "      buttonEl.style.display =\n",
       "        google.colab.kernel.accessAllowed ? 'block' : 'none';\n",
       "\n",
       "      async function convertToInteractive(key) {\n",
       "        const element = document.querySelector('#df-379c57b8-3692-4c48-9af2-7ba9c498cf42');\n",
       "        const dataTable =\n",
       "          await google.colab.kernel.invokeFunction('convertToInteractive',\n",
       "                                                    [key], {});\n",
       "        if (!dataTable) return;\n",
       "\n",
       "        const docLinkHtml = 'Like what you see? Visit the ' +\n",
       "          '<a target=\"_blank\" href=https://colab.research.google.com/notebooks/data_table.ipynb>data table notebook</a>'\n",
       "          + ' to learn more about interactive tables.';\n",
       "        element.innerHTML = '';\n",
       "        dataTable['output_type'] = 'display_data';\n",
       "        await google.colab.output.renderOutput(dataTable, element);\n",
       "        const docLink = document.createElement('div');\n",
       "        docLink.innerHTML = docLinkHtml;\n",
       "        element.appendChild(docLink);\n",
       "      }\n",
       "    </script>\n",
       "  </div>\n",
       "\n",
       "\n",
       "<div id=\"df-02ea8769-df5a-41a7-b5bd-99c85e6f4da6\">\n",
       "  <button class=\"colab-df-quickchart\" onclick=\"quickchart('df-02ea8769-df5a-41a7-b5bd-99c85e6f4da6')\"\n",
       "            title=\"Suggest charts\"\n",
       "            style=\"display:none;\">\n",
       "\n",
       "<svg xmlns=\"http://www.w3.org/2000/svg\" height=\"24px\"viewBox=\"0 0 24 24\"\n",
       "     width=\"24px\">\n",
       "    <g>\n",
       "        <path d=\"M19 3H5c-1.1 0-2 .9-2 2v14c0 1.1.9 2 2 2h14c1.1 0 2-.9 2-2V5c0-1.1-.9-2-2-2zM9 17H7v-7h2v7zm4 0h-2V7h2v10zm4 0h-2v-4h2v4z\"/>\n",
       "    </g>\n",
       "</svg>\n",
       "  </button>\n",
       "\n",
       "<style>\n",
       "  .colab-df-quickchart {\n",
       "      --bg-color: #E8F0FE;\n",
       "      --fill-color: #1967D2;\n",
       "      --hover-bg-color: #E2EBFA;\n",
       "      --hover-fill-color: #174EA6;\n",
       "      --disabled-fill-color: #AAA;\n",
       "      --disabled-bg-color: #DDD;\n",
       "  }\n",
       "\n",
       "  [theme=dark] .colab-df-quickchart {\n",
       "      --bg-color: #3B4455;\n",
       "      --fill-color: #D2E3FC;\n",
       "      --hover-bg-color: #434B5C;\n",
       "      --hover-fill-color: #FFFFFF;\n",
       "      --disabled-bg-color: #3B4455;\n",
       "      --disabled-fill-color: #666;\n",
       "  }\n",
       "\n",
       "  .colab-df-quickchart {\n",
       "    background-color: var(--bg-color);\n",
       "    border: none;\n",
       "    border-radius: 50%;\n",
       "    cursor: pointer;\n",
       "    display: none;\n",
       "    fill: var(--fill-color);\n",
       "    height: 32px;\n",
       "    padding: 0;\n",
       "    width: 32px;\n",
       "  }\n",
       "\n",
       "  .colab-df-quickchart:hover {\n",
       "    background-color: var(--hover-bg-color);\n",
       "    box-shadow: 0 1px 2px rgba(60, 64, 67, 0.3), 0 1px 3px 1px rgba(60, 64, 67, 0.15);\n",
       "    fill: var(--button-hover-fill-color);\n",
       "  }\n",
       "\n",
       "  .colab-df-quickchart-complete:disabled,\n",
       "  .colab-df-quickchart-complete:disabled:hover {\n",
       "    background-color: var(--disabled-bg-color);\n",
       "    fill: var(--disabled-fill-color);\n",
       "    box-shadow: none;\n",
       "  }\n",
       "\n",
       "  .colab-df-spinner {\n",
       "    border: 2px solid var(--fill-color);\n",
       "    border-color: transparent;\n",
       "    border-bottom-color: var(--fill-color);\n",
       "    animation:\n",
       "      spin 1s steps(1) infinite;\n",
       "  }\n",
       "\n",
       "  @keyframes spin {\n",
       "    0% {\n",
       "      border-color: transparent;\n",
       "      border-bottom-color: var(--fill-color);\n",
       "      border-left-color: var(--fill-color);\n",
       "    }\n",
       "    20% {\n",
       "      border-color: transparent;\n",
       "      border-left-color: var(--fill-color);\n",
       "      border-top-color: var(--fill-color);\n",
       "    }\n",
       "    30% {\n",
       "      border-color: transparent;\n",
       "      border-left-color: var(--fill-color);\n",
       "      border-top-color: var(--fill-color);\n",
       "      border-right-color: var(--fill-color);\n",
       "    }\n",
       "    40% {\n",
       "      border-color: transparent;\n",
       "      border-right-color: var(--fill-color);\n",
       "      border-top-color: var(--fill-color);\n",
       "    }\n",
       "    60% {\n",
       "      border-color: transparent;\n",
       "      border-right-color: var(--fill-color);\n",
       "    }\n",
       "    80% {\n",
       "      border-color: transparent;\n",
       "      border-right-color: var(--fill-color);\n",
       "      border-bottom-color: var(--fill-color);\n",
       "    }\n",
       "    90% {\n",
       "      border-color: transparent;\n",
       "      border-bottom-color: var(--fill-color);\n",
       "    }\n",
       "  }\n",
       "</style>\n",
       "\n",
       "  <script>\n",
       "    async function quickchart(key) {\n",
       "      const quickchartButtonEl =\n",
       "        document.querySelector('#' + key + ' button');\n",
       "      quickchartButtonEl.disabled = true;  // To prevent multiple clicks.\n",
       "      quickchartButtonEl.classList.add('colab-df-spinner');\n",
       "      try {\n",
       "        const charts = await google.colab.kernel.invokeFunction(\n",
       "            'suggestCharts', [key], {});\n",
       "      } catch (error) {\n",
       "        console.error('Error during call to suggestCharts:', error);\n",
       "      }\n",
       "      quickchartButtonEl.classList.remove('colab-df-spinner');\n",
       "      quickchartButtonEl.classList.add('colab-df-quickchart-complete');\n",
       "    }\n",
       "    (() => {\n",
       "      let quickchartButtonEl =\n",
       "        document.querySelector('#df-02ea8769-df5a-41a7-b5bd-99c85e6f4da6 button');\n",
       "      quickchartButtonEl.style.display =\n",
       "        google.colab.kernel.accessAllowed ? 'block' : 'none';\n",
       "    })();\n",
       "  </script>\n",
       "</div>\n",
       "\n",
       "    </div>\n",
       "  </div>\n"
      ],
      "text/plain": [
       "   age     sex     bmi  children smoker     region      charges\n",
       "0   19  female  27.900         0    yes  southwest  16884.92400\n",
       "1   18    male  33.770         1     no  southeast   1725.55230\n",
       "2   28    male  33.000         3     no  southeast   4449.46200\n",
       "3   33    male  22.705         0     no  northwest  21984.47061\n",
       "4   32    male  28.880         0     no  northwest   3866.85520"
      ]
     },
     "execution_count": 4,
     "metadata": {},
     "output_type": "execute_result"
    }
   ],
   "source": [
    "df = pd.read_csv('insurance.csv')\n",
    "df.head(5)"
   ]
  },
  {
   "cell_type": "code",
   "execution_count": null,
   "metadata": {
    "colab": {
     "base_uri": "https://localhost:8080/",
     "height": 175
    },
    "executionInfo": {
     "elapsed": 15,
     "status": "ok",
     "timestamp": 1738862462280,
     "user": {
      "displayName": "Shyanil Mishra",
      "userId": "02076940410951200209"
     },
     "user_tz": -330
    },
    "id": "l30qTauZHZl7",
    "outputId": "459307c2-d4da-40bd-a3e6-02f7ee201d4f"
   },
   "outputs": [
    {
     "data": {
      "application/vnd.google.colaboratory.intrinsic+json": {
       "summary": "{\n  \"name\": \"enhanced_df\",\n  \"rows\": 1338,\n  \"fields\": [\n    {\n      \"column\": \"age\",\n      \"properties\": {\n        \"dtype\": \"number\",\n        \"std\": 14,\n        \"min\": 18,\n        \"max\": 64,\n        \"num_unique_values\": 47,\n        \"samples\": [\n          21,\n          45,\n          36\n        ],\n        \"semantic_type\": \"\",\n        \"description\": \"\"\n      }\n    },\n    {\n      \"column\": \"bmi\",\n      \"properties\": {\n        \"dtype\": \"number\",\n        \"std\": 6.098186911679017,\n        \"min\": 15.96,\n        \"max\": 53.13,\n        \"num_unique_values\": 548,\n        \"samples\": [\n          23.18,\n          26.885,\n          29.26\n        ],\n        \"semantic_type\": \"\",\n        \"description\": \"\"\n      }\n    },\n    {\n      \"column\": \"children\",\n      \"properties\": {\n        \"dtype\": \"number\",\n        \"std\": 1,\n        \"min\": 0,\n        \"max\": 5,\n        \"num_unique_values\": 6,\n        \"samples\": [\n          0,\n          1,\n          4\n        ],\n        \"semantic_type\": \"\",\n        \"description\": \"\"\n      }\n    },\n    {\n      \"column\": \"charges\",\n      \"properties\": {\n        \"dtype\": \"number\",\n        \"std\": 12110.011236693994,\n        \"min\": 1121.8739,\n        \"max\": 63770.42801,\n        \"num_unique_values\": 1337,\n        \"samples\": [\n          8688.85885,\n          5708.867,\n          11436.73815\n        ],\n        \"semantic_type\": \"\",\n        \"description\": \"\"\n      }\n    },\n    {\n      \"column\": \"sex_male\",\n      \"properties\": {\n        \"dtype\": \"number\",\n        \"std\": 0.5001595692843718,\n        \"min\": 0.0,\n        \"max\": 1.0,\n        \"num_unique_values\": 2,\n        \"samples\": [\n          1.0,\n          0.0\n        ],\n        \"semantic_type\": \"\",\n        \"description\": \"\"\n      }\n    },\n    {\n      \"column\": \"smoker_yes\",\n      \"properties\": {\n        \"dtype\": \"number\",\n        \"std\": 0.40369403754562083,\n        \"min\": 0.0,\n        \"max\": 1.0,\n        \"num_unique_values\": 2,\n        \"samples\": [\n          0.0,\n          1.0\n        ],\n        \"semantic_type\": \"\",\n        \"description\": \"\"\n      }\n    },\n    {\n      \"column\": \"region_northwest\",\n      \"properties\": {\n        \"dtype\": \"number\",\n        \"std\": 0.4289954073428979,\n        \"min\": 0.0,\n        \"max\": 1.0,\n        \"num_unique_values\": 2,\n        \"samples\": [\n          1.0,\n          0.0\n        ],\n        \"semantic_type\": \"\",\n        \"description\": \"\"\n      }\n    },\n    {\n      \"column\": \"region_southeast\",\n      \"properties\": {\n        \"dtype\": \"number\",\n        \"std\": 0.44518078394676175,\n        \"min\": 0.0,\n        \"max\": 1.0,\n        \"num_unique_values\": 2,\n        \"samples\": [\n          1.0,\n          0.0\n        ],\n        \"semantic_type\": \"\",\n        \"description\": \"\"\n      }\n    },\n    {\n      \"column\": \"region_southwest\",\n      \"properties\": {\n        \"dtype\": \"number\",\n        \"std\": 0.42899540734289815,\n        \"min\": 0.0,\n        \"max\": 1.0,\n        \"num_unique_values\": 2,\n        \"samples\": [\n          0.0,\n          1.0\n        ],\n        \"semantic_type\": \"\",\n        \"description\": \"\"\n      }\n    }\n  ]\n}",
       "type": "dataframe",
       "variable_name": "enhanced_df"
      },
      "text/html": [
       "\n",
       "  <div id=\"df-36d25e08-2ce3-4953-b940-1e2285bff772\" class=\"colab-df-container\">\n",
       "    <div>\n",
       "<style scoped>\n",
       "    .dataframe tbody tr th:only-of-type {\n",
       "        vertical-align: middle;\n",
       "    }\n",
       "\n",
       "    .dataframe tbody tr th {\n",
       "        vertical-align: top;\n",
       "    }\n",
       "\n",
       "    .dataframe thead th {\n",
       "        text-align: right;\n",
       "    }\n",
       "</style>\n",
       "<table border=\"1\" class=\"dataframe\">\n",
       "  <thead>\n",
       "    <tr style=\"text-align: right;\">\n",
       "      <th></th>\n",
       "      <th>age</th>\n",
       "      <th>bmi</th>\n",
       "      <th>children</th>\n",
       "      <th>charges</th>\n",
       "      <th>sex_male</th>\n",
       "      <th>smoker_yes</th>\n",
       "      <th>region_northwest</th>\n",
       "      <th>region_southeast</th>\n",
       "      <th>region_southwest</th>\n",
       "    </tr>\n",
       "  </thead>\n",
       "  <tbody>\n",
       "    <tr>\n",
       "      <th>0</th>\n",
       "      <td>19</td>\n",
       "      <td>27.900</td>\n",
       "      <td>0</td>\n",
       "      <td>16884.92400</td>\n",
       "      <td>0.0</td>\n",
       "      <td>1.0</td>\n",
       "      <td>0.0</td>\n",
       "      <td>0.0</td>\n",
       "      <td>1.0</td>\n",
       "    </tr>\n",
       "    <tr>\n",
       "      <th>1</th>\n",
       "      <td>18</td>\n",
       "      <td>33.770</td>\n",
       "      <td>1</td>\n",
       "      <td>1725.55230</td>\n",
       "      <td>1.0</td>\n",
       "      <td>0.0</td>\n",
       "      <td>0.0</td>\n",
       "      <td>1.0</td>\n",
       "      <td>0.0</td>\n",
       "    </tr>\n",
       "    <tr>\n",
       "      <th>2</th>\n",
       "      <td>28</td>\n",
       "      <td>33.000</td>\n",
       "      <td>3</td>\n",
       "      <td>4449.46200</td>\n",
       "      <td>1.0</td>\n",
       "      <td>0.0</td>\n",
       "      <td>0.0</td>\n",
       "      <td>1.0</td>\n",
       "      <td>0.0</td>\n",
       "    </tr>\n",
       "    <tr>\n",
       "      <th>3</th>\n",
       "      <td>33</td>\n",
       "      <td>22.705</td>\n",
       "      <td>0</td>\n",
       "      <td>21984.47061</td>\n",
       "      <td>1.0</td>\n",
       "      <td>0.0</td>\n",
       "      <td>1.0</td>\n",
       "      <td>0.0</td>\n",
       "      <td>0.0</td>\n",
       "    </tr>\n",
       "  </tbody>\n",
       "</table>\n",
       "</div>\n",
       "    <div class=\"colab-df-buttons\">\n",
       "\n",
       "  <div class=\"colab-df-container\">\n",
       "    <button class=\"colab-df-convert\" onclick=\"convertToInteractive('df-36d25e08-2ce3-4953-b940-1e2285bff772')\"\n",
       "            title=\"Convert this dataframe to an interactive table.\"\n",
       "            style=\"display:none;\">\n",
       "\n",
       "  <svg xmlns=\"http://www.w3.org/2000/svg\" height=\"24px\" viewBox=\"0 -960 960 960\">\n",
       "    <path d=\"M120-120v-720h720v720H120Zm60-500h600v-160H180v160Zm220 220h160v-160H400v160Zm0 220h160v-160H400v160ZM180-400h160v-160H180v160Zm440 0h160v-160H620v160ZM180-180h160v-160H180v160Zm440 0h160v-160H620v160Z\"/>\n",
       "  </svg>\n",
       "    </button>\n",
       "\n",
       "  <style>\n",
       "    .colab-df-container {\n",
       "      display:flex;\n",
       "      gap: 12px;\n",
       "    }\n",
       "\n",
       "    .colab-df-convert {\n",
       "      background-color: #E8F0FE;\n",
       "      border: none;\n",
       "      border-radius: 50%;\n",
       "      cursor: pointer;\n",
       "      display: none;\n",
       "      fill: #1967D2;\n",
       "      height: 32px;\n",
       "      padding: 0 0 0 0;\n",
       "      width: 32px;\n",
       "    }\n",
       "\n",
       "    .colab-df-convert:hover {\n",
       "      background-color: #E2EBFA;\n",
       "      box-shadow: 0px 1px 2px rgba(60, 64, 67, 0.3), 0px 1px 3px 1px rgba(60, 64, 67, 0.15);\n",
       "      fill: #174EA6;\n",
       "    }\n",
       "\n",
       "    .colab-df-buttons div {\n",
       "      margin-bottom: 4px;\n",
       "    }\n",
       "\n",
       "    [theme=dark] .colab-df-convert {\n",
       "      background-color: #3B4455;\n",
       "      fill: #D2E3FC;\n",
       "    }\n",
       "\n",
       "    [theme=dark] .colab-df-convert:hover {\n",
       "      background-color: #434B5C;\n",
       "      box-shadow: 0px 1px 3px 1px rgba(0, 0, 0, 0.15);\n",
       "      filter: drop-shadow(0px 1px 2px rgba(0, 0, 0, 0.3));\n",
       "      fill: #FFFFFF;\n",
       "    }\n",
       "  </style>\n",
       "\n",
       "    <script>\n",
       "      const buttonEl =\n",
       "        document.querySelector('#df-36d25e08-2ce3-4953-b940-1e2285bff772 button.colab-df-convert');\n",
       "      buttonEl.style.display =\n",
       "        google.colab.kernel.accessAllowed ? 'block' : 'none';\n",
       "\n",
       "      async function convertToInteractive(key) {\n",
       "        const element = document.querySelector('#df-36d25e08-2ce3-4953-b940-1e2285bff772');\n",
       "        const dataTable =\n",
       "          await google.colab.kernel.invokeFunction('convertToInteractive',\n",
       "                                                    [key], {});\n",
       "        if (!dataTable) return;\n",
       "\n",
       "        const docLinkHtml = 'Like what you see? Visit the ' +\n",
       "          '<a target=\"_blank\" href=https://colab.research.google.com/notebooks/data_table.ipynb>data table notebook</a>'\n",
       "          + ' to learn more about interactive tables.';\n",
       "        element.innerHTML = '';\n",
       "        dataTable['output_type'] = 'display_data';\n",
       "        await google.colab.output.renderOutput(dataTable, element);\n",
       "        const docLink = document.createElement('div');\n",
       "        docLink.innerHTML = docLinkHtml;\n",
       "        element.appendChild(docLink);\n",
       "      }\n",
       "    </script>\n",
       "  </div>\n",
       "\n",
       "\n",
       "<div id=\"df-b16626f6-3b55-40d6-8b5b-0d3318177a1b\">\n",
       "  <button class=\"colab-df-quickchart\" onclick=\"quickchart('df-b16626f6-3b55-40d6-8b5b-0d3318177a1b')\"\n",
       "            title=\"Suggest charts\"\n",
       "            style=\"display:none;\">\n",
       "\n",
       "<svg xmlns=\"http://www.w3.org/2000/svg\" height=\"24px\"viewBox=\"0 0 24 24\"\n",
       "     width=\"24px\">\n",
       "    <g>\n",
       "        <path d=\"M19 3H5c-1.1 0-2 .9-2 2v14c0 1.1.9 2 2 2h14c1.1 0 2-.9 2-2V5c0-1.1-.9-2-2-2zM9 17H7v-7h2v7zm4 0h-2V7h2v10zm4 0h-2v-4h2v4z\"/>\n",
       "    </g>\n",
       "</svg>\n",
       "  </button>\n",
       "\n",
       "<style>\n",
       "  .colab-df-quickchart {\n",
       "      --bg-color: #E8F0FE;\n",
       "      --fill-color: #1967D2;\n",
       "      --hover-bg-color: #E2EBFA;\n",
       "      --hover-fill-color: #174EA6;\n",
       "      --disabled-fill-color: #AAA;\n",
       "      --disabled-bg-color: #DDD;\n",
       "  }\n",
       "\n",
       "  [theme=dark] .colab-df-quickchart {\n",
       "      --bg-color: #3B4455;\n",
       "      --fill-color: #D2E3FC;\n",
       "      --hover-bg-color: #434B5C;\n",
       "      --hover-fill-color: #FFFFFF;\n",
       "      --disabled-bg-color: #3B4455;\n",
       "      --disabled-fill-color: #666;\n",
       "  }\n",
       "\n",
       "  .colab-df-quickchart {\n",
       "    background-color: var(--bg-color);\n",
       "    border: none;\n",
       "    border-radius: 50%;\n",
       "    cursor: pointer;\n",
       "    display: none;\n",
       "    fill: var(--fill-color);\n",
       "    height: 32px;\n",
       "    padding: 0;\n",
       "    width: 32px;\n",
       "  }\n",
       "\n",
       "  .colab-df-quickchart:hover {\n",
       "    background-color: var(--hover-bg-color);\n",
       "    box-shadow: 0 1px 2px rgba(60, 64, 67, 0.3), 0 1px 3px 1px rgba(60, 64, 67, 0.15);\n",
       "    fill: var(--button-hover-fill-color);\n",
       "  }\n",
       "\n",
       "  .colab-df-quickchart-complete:disabled,\n",
       "  .colab-df-quickchart-complete:disabled:hover {\n",
       "    background-color: var(--disabled-bg-color);\n",
       "    fill: var(--disabled-fill-color);\n",
       "    box-shadow: none;\n",
       "  }\n",
       "\n",
       "  .colab-df-spinner {\n",
       "    border: 2px solid var(--fill-color);\n",
       "    border-color: transparent;\n",
       "    border-bottom-color: var(--fill-color);\n",
       "    animation:\n",
       "      spin 1s steps(1) infinite;\n",
       "  }\n",
       "\n",
       "  @keyframes spin {\n",
       "    0% {\n",
       "      border-color: transparent;\n",
       "      border-bottom-color: var(--fill-color);\n",
       "      border-left-color: var(--fill-color);\n",
       "    }\n",
       "    20% {\n",
       "      border-color: transparent;\n",
       "      border-left-color: var(--fill-color);\n",
       "      border-top-color: var(--fill-color);\n",
       "    }\n",
       "    30% {\n",
       "      border-color: transparent;\n",
       "      border-left-color: var(--fill-color);\n",
       "      border-top-color: var(--fill-color);\n",
       "      border-right-color: var(--fill-color);\n",
       "    }\n",
       "    40% {\n",
       "      border-color: transparent;\n",
       "      border-right-color: var(--fill-color);\n",
       "      border-top-color: var(--fill-color);\n",
       "    }\n",
       "    60% {\n",
       "      border-color: transparent;\n",
       "      border-right-color: var(--fill-color);\n",
       "    }\n",
       "    80% {\n",
       "      border-color: transparent;\n",
       "      border-right-color: var(--fill-color);\n",
       "      border-bottom-color: var(--fill-color);\n",
       "    }\n",
       "    90% {\n",
       "      border-color: transparent;\n",
       "      border-bottom-color: var(--fill-color);\n",
       "    }\n",
       "  }\n",
       "</style>\n",
       "\n",
       "  <script>\n",
       "    async function quickchart(key) {\n",
       "      const quickchartButtonEl =\n",
       "        document.querySelector('#' + key + ' button');\n",
       "      quickchartButtonEl.disabled = true;  // To prevent multiple clicks.\n",
       "      quickchartButtonEl.classList.add('colab-df-spinner');\n",
       "      try {\n",
       "        const charts = await google.colab.kernel.invokeFunction(\n",
       "            'suggestCharts', [key], {});\n",
       "      } catch (error) {\n",
       "        console.error('Error during call to suggestCharts:', error);\n",
       "      }\n",
       "      quickchartButtonEl.classList.remove('colab-df-spinner');\n",
       "      quickchartButtonEl.classList.add('colab-df-quickchart-complete');\n",
       "    }\n",
       "    (() => {\n",
       "      let quickchartButtonEl =\n",
       "        document.querySelector('#df-b16626f6-3b55-40d6-8b5b-0d3318177a1b button');\n",
       "      quickchartButtonEl.style.display =\n",
       "        google.colab.kernel.accessAllowed ? 'block' : 'none';\n",
       "    })();\n",
       "  </script>\n",
       "</div>\n",
       "\n",
       "    </div>\n",
       "  </div>\n"
      ],
      "text/plain": [
       "   age     bmi  children      charges  sex_male  smoker_yes  region_northwest  \\\n",
       "0   19  27.900         0  16884.92400       0.0         1.0               0.0   \n",
       "1   18  33.770         1   1725.55230       1.0         0.0               0.0   \n",
       "2   28  33.000         3   4449.46200       1.0         0.0               0.0   \n",
       "3   33  22.705         0  21984.47061       1.0         0.0               1.0   \n",
       "\n",
       "   region_southeast  region_southwest  \n",
       "0               0.0               1.0  \n",
       "1               1.0               0.0  \n",
       "2               1.0               0.0  \n",
       "3               0.0               0.0  "
      ]
     },
     "execution_count": 5,
     "metadata": {},
     "output_type": "execute_result"
    }
   ],
   "source": [
    "categorical_features = ['sex', 'smoker', 'region']\n",
    "encode = OneHotEncoder(drop='first', sparse_output=False)\n",
    "df_encoded_columns = encode.fit_transform(df[categorical_features])\n",
    "encoded_df = pd.DataFrame(df_encoded_columns, columns=encode.get_feature_names_out(categorical_features))\n",
    "enhanced_df = pd.concat([df.drop(categorical_features, axis=1), encoded_df], axis=1)\n",
    "# This will replace any inf or -inf values in your DataFrame with NaN, allowing you to proceed with visualizations and model training without encountering the warning.\n",
    "enhanced_df.replace([np.inf, -np.inf], np.nan, inplace=True)\n",
    "enhanced_df.head(4)"
   ]
  },
  {
   "cell_type": "markdown",
   "metadata": {
    "id": "15NWlnGTI5A9"
   },
   "source": [
    "### **Data Splitting and Target Transformation for Effective Training**\n",
    "\n",
    "In this step, we **split our dataset** effectively into different sets for training and evaluation:\n",
    "- **X_train**, **X_cv**, **X_test**: Features for training, cross-validation, and testing, respectively.  \n",
    "- **y_train**, **y_cv**, **y_test**: Target values for training, cross-validation, and testing, respectively.\n",
    "\n",
    "We also **apply log1p transformation** to the target variable because the range of values is very high and the distribution is not Gaussian. This transformation helps to normalize the data, making it more suitable for modeling.\n"
   ]
  },
  {
   "cell_type": "code",
   "execution_count": null,
   "metadata": {
    "id": "xp8kFblYHob0"
   },
   "outputs": [],
   "source": [
    "New_target = np.log1p(enhanced_df['charges'])"
   ]
  },
  {
   "cell_type": "code",
   "execution_count": null,
   "metadata": {
    "colab": {
     "base_uri": "https://localhost:8080/"
    },
    "executionInfo": {
     "elapsed": 13,
     "status": "ok",
     "timestamp": 1738862462280,
     "user": {
      "displayName": "Shyanil Mishra",
      "userId": "02076940410951200209"
     },
     "user_tz": -330
    },
    "id": "wVgku3-eHrMb",
    "outputId": "bf42b41d-8ddd-4ee6-a66e-3c0c0308aa52"
   },
   "outputs": [
    {
     "name": "stdout",
     "output_type": "stream",
     "text": [
      "Shape of X:  (1338, 8)\n",
      "Shape of y:  (1338,)\n",
      "Shape of X_train:  (802, 8)\n",
      "Shape of y_train:  (802,)\n",
      "Shape of X_cv:  (268, 8)\n",
      "Shape of y_cv:  (268,)\n",
      "Shape of X_test:  (268, 8)\n",
      "Shape of y_test:  (268,)\n",
      "\n",
      "First 5 samples of X_train:\n",
      "[[59.   27.72  3.    0.    0.    0.    1.    0.  ]\n",
      " [60.   25.74  0.    1.    0.    0.    1.    0.  ]\n",
      " [28.   34.77  0.    0.    0.    1.    0.    0.  ]\n",
      " [19.   28.4   1.    0.    0.    0.    0.    1.  ]\n",
      " [45.   27.5   3.    1.    0.    0.    0.    1.  ]]\n",
      "First 5 values of y_train:\n",
      "[9.54696501 9.4045558  8.17693203 7.75470408 9.06141104]\n",
      "\n",
      "First 5 samples of X_cv:\n",
      "[[18.   31.92  0.    0.    0.    0.    0.    0.  ]\n",
      " [27.   29.15  0.    1.    1.    0.    1.    0.  ]\n",
      " [26.   23.7   2.    1.    0.    0.    0.    1.  ]\n",
      " [53.   36.86  3.    0.    1.    1.    0.    0.  ]\n",
      " [54.   47.41  0.    0.    1.    0.    1.    0.  ]]\n",
      "First 5 values of y_cv:\n",
      "[ 7.69938071  9.81178312  8.1563183  10.75069489 11.06306053]\n",
      "\n",
      "First 5 samples of X_test:\n",
      "[[43.    26.7    2.     0.     1.     0.     0.     1.   ]\n",
      " [35.    35.86   2.     0.     0.     0.     1.     0.   ]\n",
      " [38.    40.565  1.     0.     0.     1.     0.     0.   ]\n",
      " [26.    31.065  0.     1.     0.     1.     0.     0.   ]\n",
      " [22.    52.58   1.     1.     1.     0.     1.     0.   ]]\n",
      "First 5 values of y_test:\n",
      "[10.02036351  8.6720614   8.76006993  7.90121753 10.70329836]\n"
     ]
    }
   ],
   "source": [
    "# Preparing the input (X) and target (y) variables\n",
    "X = enhanced_df.drop('charges', axis=1)  # Drop 'charges' column from the dataset to get features\n",
    "y = New_target  # Assign the target variable\n",
    "\n",
    "# Converting to numpy arrays\n",
    "X = np.array(X)\n",
    "y = np.array(y)\n",
    "\n",
    "# Splitting the data into Training Set, Cross-Validation Set, and Test Set\n",
    "X_train, x_, y_train, y_ = train_test_split(X, y, test_size=0.4, random_state=42)  # 60% training, 40% for further split\n",
    "X_cv, X_test, y_cv, y_test = train_test_split(x_, y_, test_size=0.5, random_state=42)  # Split the remaining 40% into 50% for CV and 50% for test\n",
    "\n",
    "# Deleting temporary variables\n",
    "del x_, y_\n",
    "\n",
    "# Displaying the shapes of the datasets and some sample values\n",
    "print(\"Shape of X: \", X.shape)\n",
    "print(\"Shape of y: \", y.shape)\n",
    "print(\"Shape of X_train: \", X_train.shape)\n",
    "print(\"Shape of y_train: \", y_train.shape)\n",
    "print(\"Shape of X_cv: \", X_cv.shape)\n",
    "print(\"Shape of y_cv: \", y_cv.shape)\n",
    "print(\"Shape of X_test: \", X_test.shape)\n",
    "print(\"Shape of y_test: \", y_test.shape)\n",
    "\n",
    "# Displaying the first 5 samples from each set\n",
    "print(\"\\nFirst 5 samples of X_train:\")\n",
    "print(X_train[:5])\n",
    "print(\"First 5 values of y_train:\")\n",
    "print(y_train[:5])\n",
    "\n",
    "print(\"\\nFirst 5 samples of X_cv:\")\n",
    "print(X_cv[:5])\n",
    "print(\"First 5 values of y_cv:\")\n",
    "print(y_cv[:5])\n",
    "\n",
    "print(\"\\nFirst 5 samples of X_test:\")\n",
    "print(X_test[:5])\n",
    "print(\"First 5 values of y_test:\")\n",
    "print(y_test[:5])"
   ]
  },
  {
   "cell_type": "code",
   "execution_count": null,
   "metadata": {
    "id": "DB9BADMnMWLB"
   },
   "outputs": [],
   "source": [
    "import numpy as np\n",
    "from sklearn.metrics import mean_squared_error, mean_absolute_error, mean_absolute_percentage_error\n",
    "\n",
    "def evaluate_regression_performance(true_values, predicted_values):\n",
    "    \"\"\"\n",
    "    This function evaluates the performance of a regression model using various metrics.\n",
    "    It prints out detailed information about:\n",
    "    1. Mean Squared Error (MSE)\n",
    "    2. Scaled Mean Squared Error\n",
    "    3. Mean Absolute Error (MAE)\n",
    "    4. Root Mean Squared Error (RMSE)\n",
    "    5. Mean Absolute Percentage Error (MAPE)\n",
    "    \"\"\"\n",
    "\n",
    "    # Calculate Mean Squared Error (MSE)\n",
    "    mse = mean_squared_error(true_values, predicted_values)\n",
    "    print(f\"--- Performance Evaluation ---\")\n",
    "    print(f\"\\n1. Mean Squared Error (MSE): {mse:.4f}\")\n",
    "    print(\"   - MSE calculates the average of the squared differences between the predicted and actual values. \"\n",
    "          \"It penalizes larger errors more heavily, making it a sensitive measure of overall prediction accuracy.\\n\")\n",
    "\n",
    "    # Scaled Mean Squared Error (MSE/2)\n",
    "    mse_scaled = mse / 2\n",
    "    print(f\"2. Scaled Mean Squared Error (MSE/2): {mse_scaled:.4f}\")\n",
    "    print(\"   - This is a scaled version of MSE, used for specific use cases. Here, it is scaled down by dividing by 2 \"\n",
    "          \"to see a more normalized value.\\n\")\n",
    "\n",
    "    # Calculate Mean Absolute Error (MAE)\n",
    "    mae = mean_absolute_error(true_values, predicted_values)\n",
    "    print(f\"3. Mean Absolute Error (MAE): {mae:.4f}\")\n",
    "    print(\"   - MAE represents the average of the absolute errors. It is more intuitive than MSE since it measures the \"\n",
    "          \"average magnitude of errors without considering their direction (positive or negative).\\n\")\n",
    "\n",
    "    # Calculate Root Mean Squared Error (RMSE)\n",
    "    rmse = np.sqrt(mse)\n",
    "    print(f\"4. Root Mean Squared Error (RMSE): {rmse:.4f}\")\n",
    "    print(\"   - RMSE gives an idea of the magnitude of the error in the same units as the target variable. \"\n",
    "          \"It is useful when you want to assess the absolute error and is particularly sensitive to large errors.\\n\")\n",
    "\n",
    "    # Calculate Mean Absolute Percentage Error (MAPE)\n",
    "    mape = mean_absolute_percentage_error(true_values, predicted_values)\n",
    "    print(f\"5. Mean Absolute Percentage Error (MAPE): {mape:.4f}%\")\n",
    "    print(\"   - MAPE expresses the error as a percentage of the actual values, providing a relative measure of prediction accuracy. \"\n",
    "          \"It is useful when comparing performance across different datasets or models.\\n\")\n"
   ]
  },
  {
   "cell_type": "code",
   "execution_count": null,
   "metadata": {
    "colab": {
     "base_uri": "https://localhost:8080/"
    },
    "executionInfo": {
     "elapsed": 6051,
     "status": "ok",
     "timestamp": 1738862468321,
     "user": {
      "displayName": "Shyanil Mishra",
      "userId": "02076940410951200209"
     },
     "user_tz": -330
    },
    "id": "nWMp3xucH1z7",
    "outputId": "9aa1f4f0-391c-451d-b40d-c11e3f138f5d"
   },
   "outputs": [
    {
     "name": "stdout",
     "output_type": "stream",
     "text": [
      "Collecting optuna\n",
      "  Downloading optuna-4.2.0-py3-none-any.whl.metadata (17 kB)\n",
      "Collecting alembic>=1.5.0 (from optuna)\n",
      "  Downloading alembic-1.14.1-py3-none-any.whl.metadata (7.4 kB)\n",
      "Collecting colorlog (from optuna)\n",
      "  Downloading colorlog-6.9.0-py3-none-any.whl.metadata (10 kB)\n",
      "Requirement already satisfied: numpy in /usr/local/lib/python3.11/dist-packages (from optuna) (1.26.4)\n",
      "Requirement already satisfied: packaging>=20.0 in /usr/local/lib/python3.11/dist-packages (from optuna) (24.2)\n",
      "Requirement already satisfied: sqlalchemy>=1.4.2 in /usr/local/lib/python3.11/dist-packages (from optuna) (2.0.37)\n",
      "Requirement already satisfied: tqdm in /usr/local/lib/python3.11/dist-packages (from optuna) (4.67.1)\n",
      "Requirement already satisfied: PyYAML in /usr/local/lib/python3.11/dist-packages (from optuna) (6.0.2)\n",
      "Collecting Mako (from alembic>=1.5.0->optuna)\n",
      "  Downloading Mako-1.3.9-py3-none-any.whl.metadata (2.9 kB)\n",
      "Requirement already satisfied: typing-extensions>=4 in /usr/local/lib/python3.11/dist-packages (from alembic>=1.5.0->optuna) (4.12.2)\n",
      "Requirement already satisfied: greenlet!=0.4.17 in /usr/local/lib/python3.11/dist-packages (from sqlalchemy>=1.4.2->optuna) (3.1.1)\n",
      "Requirement already satisfied: MarkupSafe>=0.9.2 in /usr/local/lib/python3.11/dist-packages (from Mako->alembic>=1.5.0->optuna) (3.0.2)\n",
      "Downloading optuna-4.2.0-py3-none-any.whl (383 kB)\n",
      "\u001b[2K   \u001b[90m━━━━━━━━━━━━━━━━━━━━━━━━━━━━━━━━━━━━━━━━\u001b[0m \u001b[32m383.4/383.4 kB\u001b[0m \u001b[31m10.3 MB/s\u001b[0m eta \u001b[36m0:00:00\u001b[0m\n",
      "\u001b[?25hDownloading alembic-1.14.1-py3-none-any.whl (233 kB)\n",
      "\u001b[2K   \u001b[90m━━━━━━━━━━━━━━━━━━━━━━━━━━━━━━━━━━━━━━━━\u001b[0m \u001b[32m233.6/233.6 kB\u001b[0m \u001b[31m17.2 MB/s\u001b[0m eta \u001b[36m0:00:00\u001b[0m\n",
      "\u001b[?25hDownloading colorlog-6.9.0-py3-none-any.whl (11 kB)\n",
      "Downloading Mako-1.3.9-py3-none-any.whl (78 kB)\n",
      "\u001b[2K   \u001b[90m━━━━━━━━━━━━━━━━━━━━━━━━━━━━━━━━━━━━━━━━\u001b[0m \u001b[32m78.5/78.5 kB\u001b[0m \u001b[31m7.5 MB/s\u001b[0m eta \u001b[36m0:00:00\u001b[0m\n",
      "\u001b[?25hInstalling collected packages: Mako, colorlog, alembic, optuna\n",
      "Successfully installed Mako-1.3.9 alembic-1.14.1 colorlog-6.9.0 optuna-4.2.0\n"
     ]
    }
   ],
   "source": [
    "!pip install optuna"
   ]
  },
  {
   "cell_type": "markdown",
   "metadata": {
    "id": "42XeBS_PLjRz"
   },
   "source": [
    "###**Essential Libraries for XGBoost** 🚀  \n",
    "\n",
    "To efficiently work with **XGBoost**, make sure you have these key libraries installed:  \n"
   ]
  },
  {
   "cell_type": "code",
   "execution_count": null,
   "metadata": {
    "colab": {
     "base_uri": "https://localhost:8080/"
    },
    "executionInfo": {
     "elapsed": 3039,
     "status": "ok",
     "timestamp": 1738862471355,
     "user": {
      "displayName": "Shyanil Mishra",
      "userId": "02076940410951200209"
     },
     "user_tz": -330
    },
    "id": "FfS3tNOpQu7t",
    "outputId": "df51f949-3de6-4010-9f88-5d046e9cfe07"
   },
   "outputs": [
    {
     "name": "stdout",
     "output_type": "stream",
     "text": [
      "Requirement already satisfied: xgboost in /usr/local/lib/python3.11/dist-packages (2.1.3)\n",
      "Requirement already satisfied: numpy in /usr/local/lib/python3.11/dist-packages (from xgboost) (1.26.4)\n",
      "Requirement already satisfied: nvidia-nccl-cu12 in /usr/local/lib/python3.11/dist-packages (from xgboost) (2.21.5)\n",
      "Requirement already satisfied: scipy in /usr/local/lib/python3.11/dist-packages (from xgboost) (1.13.1)\n"
     ]
    }
   ],
   "source": [
    "!pip install xgboost"
   ]
  },
  {
   "cell_type": "code",
   "execution_count": null,
   "metadata": {
    "id": "Y3HKBh5JIEZV"
   },
   "outputs": [],
   "source": [
    "import xgboost as xgb\n",
    "from xgboost import XGBRegressor"
   ]
  },
  {
   "cell_type": "code",
   "execution_count": null,
   "metadata": {
    "id": "UWJkEWmVHt8E"
   },
   "outputs": [],
   "source": [
    "def objective(trial):\n",
    "    # Define hyperparameters to optimize\n",
    "    params = {\n",
    "        'n_estimators': trial.suggest_int('n_estimators', 100, 1000),\n",
    "        'learning_rate': trial.suggest_float('learning_rate', 0.001, 0.1),\n",
    "        'verbosity': 1,  # Fixed\n",
    "        'random_state': 42  # Fixed\n",
    "    }\n",
    "\n",
    "    # Train model\n",
    "    model = XGBRegressor(**params)\n",
    "    model.fit(X_train, y_train)\n",
    "\n",
    "    # Predict and evaluate\n",
    "    preds = model.predict(X_cv)\n",
    "    mse = mean_squared_error(y_cv, preds)\n",
    "    return mse  # Minimize MSE\n"
   ]
  },
  {
   "cell_type": "code",
   "execution_count": null,
   "metadata": {
    "colab": {
     "base_uri": "https://localhost:8080/"
    },
    "executionInfo": {
     "elapsed": 29032,
     "status": "ok",
     "timestamp": 1738862500382,
     "user": {
      "displayName": "Shyanil Mishra",
      "userId": "02076940410951200209"
     },
     "user_tz": -330
    },
    "id": "7rPRnYlQHwiN",
    "outputId": "fc3fddb2-fa34-4990-d337-7a8cccc0b01b"
   },
   "outputs": [
    {
     "name": "stderr",
     "output_type": "stream",
     "text": [
      "[I 2025-02-06 17:20:30,994] A new study created in memory with name: no-name-8af5f70c-f93e-4a1c-a956-73b36758aa89\n",
      "[I 2025-02-06 17:20:31,132] Trial 0 finished with value: 0.1395435439131087 and parameters: {'n_estimators': 129, 'learning_rate': 0.07071378116644443}. Best is trial 0 with value: 0.1395435439131087.\n",
      "[I 2025-02-06 17:20:31,732] Trial 1 finished with value: 0.1711019431892842 and parameters: {'n_estimators': 972, 'learning_rate': 0.06666825333134373}. Best is trial 0 with value: 0.1395435439131087.\n",
      "[I 2025-02-06 17:20:31,921] Trial 2 finished with value: 0.1550701598621269 and parameters: {'n_estimators': 299, 'learning_rate': 0.006197386077833728}. Best is trial 0 with value: 0.1395435439131087.\n",
      "[I 2025-02-06 17:20:32,355] Trial 3 finished with value: 0.17294618216744131 and parameters: {'n_estimators': 782, 'learning_rate': 0.05192577105649636}. Best is trial 0 with value: 0.1395435439131087.\n",
      "[I 2025-02-06 17:20:32,944] Trial 4 finished with value: 0.15041278283044726 and parameters: {'n_estimators': 986, 'learning_rate': 0.014455807596250508}. Best is trial 0 with value: 0.1395435439131087.\n",
      "[I 2025-02-06 17:20:33,101] Trial 5 finished with value: 0.13370866735688838 and parameters: {'n_estimators': 243, 'learning_rate': 0.012137237507870026}. Best is trial 5 with value: 0.13370866735688838.\n",
      "[I 2025-02-06 17:20:33,620] Trial 6 finished with value: 0.17648973794210754 and parameters: {'n_estimators': 905, 'learning_rate': 0.0675876717821333}. Best is trial 5 with value: 0.13370866735688838.\n",
      "[I 2025-02-06 17:20:33,739] Trial 7 finished with value: 0.14717261136232906 and parameters: {'n_estimators': 207, 'learning_rate': 0.06548055904989511}. Best is trial 5 with value: 0.13370866735688838.\n",
      "[I 2025-02-06 17:20:34,046] Trial 8 finished with value: 0.1437317204947909 and parameters: {'n_estimators': 530, 'learning_rate': 0.02209069598436448}. Best is trial 5 with value: 0.13370866735688838.\n",
      "[I 2025-02-06 17:20:34,482] Trial 9 finished with value: 0.1736786478050383 and parameters: {'n_estimators': 816, 'learning_rate': 0.05830085863095123}. Best is trial 5 with value: 0.13370866735688838.\n",
      "[I 2025-02-06 17:20:34,740] Trial 10 finished with value: 0.1476958146761987 and parameters: {'n_estimators': 409, 'learning_rate': 0.034898438730988024}. Best is trial 5 with value: 0.13370866735688838.\n",
      "[I 2025-02-06 17:20:34,840] Trial 11 finished with value: 0.14514581338567686 and parameters: {'n_estimators': 133, 'learning_rate': 0.09062947602109603}. Best is trial 5 with value: 0.13370866735688838.\n",
      "[I 2025-02-06 17:20:34,924] Trial 12 finished with value: 0.1423313501235383 and parameters: {'n_estimators': 111, 'learning_rate': 0.09200224836279688}. Best is trial 5 with value: 0.13370866735688838.\n",
      "[I 2025-02-06 17:20:35,126] Trial 13 finished with value: 0.1448538266990607 and parameters: {'n_estimators': 346, 'learning_rate': 0.0343625294730057}. Best is trial 5 with value: 0.13370866735688838.\n",
      "[I 2025-02-06 17:20:35,414] Trial 14 finished with value: 0.16642401334988466 and parameters: {'n_estimators': 511, 'learning_rate': 0.07554315757693461}. Best is trial 5 with value: 0.13370866735688838.\n",
      "[I 2025-02-06 17:20:35,608] Trial 15 finished with value: 0.13886353912581886 and parameters: {'n_estimators': 262, 'learning_rate': 0.03576541469412109}. Best is trial 5 with value: 0.13370866735688838.\n",
      "[I 2025-02-06 17:20:35,976] Trial 16 finished with value: 0.16228647014264982 and parameters: {'n_estimators': 658, 'learning_rate': 0.03372201510208857}. Best is trial 5 with value: 0.13370866735688838.\n",
      "[I 2025-02-06 17:20:36,166] Trial 17 finished with value: 0.12913128408192193 and parameters: {'n_estimators': 295, 'learning_rate': 0.022202607777668883}. Best is trial 17 with value: 0.12913128408192193.\n",
      "[I 2025-02-06 17:20:36,432] Trial 18 finished with value: 0.4129032747372588 and parameters: {'n_estimators': 421, 'learning_rate': 0.001201574167584648}. Best is trial 17 with value: 0.12913128408192193.\n",
      "[I 2025-02-06 17:20:36,819] Trial 19 finished with value: 0.14508470867079937 and parameters: {'n_estimators': 632, 'learning_rate': 0.01723289167023692}. Best is trial 17 with value: 0.12913128408192193.\n",
      "[I 2025-02-06 17:20:36,981] Trial 20 finished with value: 0.1302194512585859 and parameters: {'n_estimators': 223, 'learning_rate': 0.02261249382701052}. Best is trial 17 with value: 0.12913128408192193.\n",
      "[I 2025-02-06 17:20:37,134] Trial 21 finished with value: 0.139663501370182 and parameters: {'n_estimators': 222, 'learning_rate': 0.010630311138107465}. Best is trial 17 with value: 0.12913128408192193.\n",
      "[I 2025-02-06 17:20:37,362] Trial 22 finished with value: 0.1409828565641381 and parameters: {'n_estimators': 383, 'learning_rate': 0.026059472337033433}. Best is trial 17 with value: 0.12913128408192193.\n",
      "[I 2025-02-06 17:20:37,547] Trial 23 finished with value: 0.1301045648268008 and parameters: {'n_estimators': 192, 'learning_rate': 0.02538195959957228}. Best is trial 17 with value: 0.12913128408192193.\n",
      "[I 2025-02-06 17:20:38,483] Trial 24 finished with value: 0.1512980829795431 and parameters: {'n_estimators': 325, 'learning_rate': 0.044102401207839606}. Best is trial 17 with value: 0.12913128408192193.\n",
      "[I 2025-02-06 17:20:38,622] Trial 25 finished with value: 0.12885065807586724 and parameters: {'n_estimators': 190, 'learning_rate': 0.024805844559485056}. Best is trial 25 with value: 0.12885065807586724.\n",
      "[I 2025-02-06 17:20:39,302] Trial 26 finished with value: 0.16127346782804225 and parameters: {'n_estimators': 464, 'learning_rate': 0.04364698941840621}. Best is trial 25 with value: 0.12885065807586724.\n",
      "[I 2025-02-06 17:20:39,847] Trial 27 finished with value: 0.12891022723924567 and parameters: {'n_estimators': 182, 'learning_rate': 0.028490496923093387}. Best is trial 25 with value: 0.12885065807586724.\n",
      "[I 2025-02-06 17:20:40,327] Trial 28 finished with value: 0.133437490509993 and parameters: {'n_estimators': 164, 'learning_rate': 0.04440720414636268}. Best is trial 25 with value: 0.12885065807586724.\n",
      "[I 2025-02-06 17:20:40,871] Trial 29 finished with value: 0.13216226430336586 and parameters: {'n_estimators': 104, 'learning_rate': 0.028926906379290993}. Best is trial 25 with value: 0.12885065807586724.\n",
      "[I 2025-02-06 17:20:41,794] Trial 30 finished with value: 0.130595659935598 and parameters: {'n_estimators': 312, 'learning_rate': 0.0181650280553431}. Best is trial 25 with value: 0.12885065807586724.\n",
      "[I 2025-02-06 17:20:42,841] Trial 31 finished with value: 0.12919916529098785 and parameters: {'n_estimators': 186, 'learning_rate': 0.02829618688326882}. Best is trial 25 with value: 0.12885065807586724.\n",
      "[I 2025-02-06 17:20:42,974] Trial 32 finished with value: 0.13164523719301463 and parameters: {'n_estimators': 162, 'learning_rate': 0.038852244149678965}. Best is trial 25 with value: 0.12885065807586724.\n",
      "[I 2025-02-06 17:20:43,161] Trial 33 finished with value: 0.13549286301495123 and parameters: {'n_estimators': 278, 'learning_rate': 0.028901809509898582}. Best is trial 25 with value: 0.12885065807586724.\n",
      "[I 2025-02-06 17:20:43,405] Trial 34 finished with value: 0.13502417079684353 and parameters: {'n_estimators': 357, 'learning_rate': 0.007462322351140291}. Best is trial 25 with value: 0.12885065807586724.\n",
      "[I 2025-02-06 17:20:43,530] Trial 35 finished with value: 0.14039144485617883 and parameters: {'n_estimators': 169, 'learning_rate': 0.050790228821155345}. Best is trial 25 with value: 0.12885065807586724.\n",
      "[I 2025-02-06 17:20:43,714] Trial 36 finished with value: 0.12953633512481133 and parameters: {'n_estimators': 274, 'learning_rate': 0.019349588552892934}. Best is trial 25 with value: 0.12885065807586724.\n",
      "[I 2025-02-06 17:20:44,135] Trial 37 finished with value: 0.18010118326687638 and parameters: {'n_estimators': 637, 'learning_rate': 0.002325990756899026}. Best is trial 25 with value: 0.12885065807586724.\n",
      "[I 2025-02-06 17:20:44,323] Trial 38 finished with value: 0.1327076847168449 and parameters: {'n_estimators': 261, 'learning_rate': 0.0126284337479999}. Best is trial 25 with value: 0.12885065807586724.\n",
      "[I 2025-02-06 17:20:44,649] Trial 39 finished with value: 0.14745976293177893 and parameters: {'n_estimators': 467, 'learning_rate': 0.028446318243227412}. Best is trial 25 with value: 0.12885065807586724.\n",
      "[I 2025-02-06 17:20:44,754] Trial 40 finished with value: 0.13608749929310088 and parameters: {'n_estimators': 140, 'learning_rate': 0.056098343078409135}. Best is trial 25 with value: 0.12885065807586724.\n",
      "[I 2025-02-06 17:20:44,992] Trial 41 finished with value: 0.12941300219832708 and parameters: {'n_estimators': 295, 'learning_rate': 0.01963948504415034}. Best is trial 25 with value: 0.12885065807586724.\n",
      "[I 2025-02-06 17:20:45,148] Trial 42 finished with value: 0.1322890733947945 and parameters: {'n_estimators': 211, 'learning_rate': 0.015761237490495128}. Best is trial 25 with value: 0.12885065807586724.\n",
      "[I 2025-02-06 17:20:45,351] Trial 43 finished with value: 0.138649817521064 and parameters: {'n_estimators': 307, 'learning_rate': 0.007886441441745617}. Best is trial 25 with value: 0.12885065807586724.\n",
      "[I 2025-02-06 17:20:45,533] Trial 44 finished with value: 0.12931040427855497 and parameters: {'n_estimators': 230, 'learning_rate': 0.022593646568983536}. Best is trial 25 with value: 0.12885065807586724.\n",
      "[I 2025-02-06 17:20:45,660] Trial 45 finished with value: 0.12861118815028508 and parameters: {'n_estimators': 181, 'learning_rate': 0.040015964188985495}. Best is trial 45 with value: 0.12861118815028508.\n",
      "[I 2025-02-06 17:20:45,785] Trial 46 finished with value: 0.1309905495807273 and parameters: {'n_estimators': 174, 'learning_rate': 0.038422580150160826}. Best is trial 45 with value: 0.12861118815028508.\n",
      "[I 2025-02-06 17:20:45,874] Trial 47 finished with value: 0.1327490163852529 and parameters: {'n_estimators': 100, 'learning_rate': 0.031697536885724964}. Best is trial 45 with value: 0.12861118815028508.\n",
      "[I 2025-02-06 17:20:45,992] Trial 48 finished with value: 0.13001553749660516 and parameters: {'n_estimators': 133, 'learning_rate': 0.04035697388502736}. Best is trial 45 with value: 0.12861118815028508.\n",
      "[I 2025-02-06 17:20:46,133] Trial 49 finished with value: 0.13514066681226714 and parameters: {'n_estimators': 193, 'learning_rate': 0.04605591090257134}. Best is trial 45 with value: 0.12861118815028508.\n",
      "[I 2025-02-06 17:20:46,462] Trial 50 finished with value: 0.15548277188587944 and parameters: {'n_estimators': 579, 'learning_rate': 0.032120421176051066}. Best is trial 45 with value: 0.12861118815028508.\n",
      "[I 2025-02-06 17:20:46,643] Trial 51 finished with value: 0.12915998630730424 and parameters: {'n_estimators': 241, 'learning_rate': 0.022644340213068433}. Best is trial 45 with value: 0.12861118815028508.\n",
      "[I 2025-02-06 17:20:47,091] Trial 52 finished with value: 0.1520288955728996 and parameters: {'n_estimators': 733, 'learning_rate': 0.024625797161026655}. Best is trial 45 with value: 0.12861118815028508.\n",
      "[I 2025-02-06 17:20:47,272] Trial 53 finished with value: 0.1324056382113717 and parameters: {'n_estimators': 243, 'learning_rate': 0.014235249727476442}. Best is trial 45 with value: 0.12861118815028508.\n",
      "[I 2025-02-06 17:20:47,479] Trial 54 finished with value: 0.17277774653630187 and parameters: {'n_estimators': 346, 'learning_rate': 0.0978448484865875}. Best is trial 45 with value: 0.12861118815028508.\n",
      "[I 2025-02-06 17:20:47,592] Trial 55 finished with value: 0.1312856592023329 and parameters: {'n_estimators': 147, 'learning_rate': 0.036435068209535466}. Best is trial 45 with value: 0.12861118815028508.\n",
      "[I 2025-02-06 17:20:47,747] Trial 56 finished with value: 0.13237864598308624 and parameters: {'n_estimators': 203, 'learning_rate': 0.029134304921502686}. Best is trial 45 with value: 0.12861118815028508.\n",
      "[I 2025-02-06 17:20:47,918] Trial 57 finished with value: 0.13019606072627712 and parameters: {'n_estimators': 241, 'learning_rate': 0.0229796786758791}. Best is trial 45 with value: 0.12861118815028508.\n",
      "[I 2025-02-06 17:20:48,478] Trial 58 finished with value: 0.16924057144188662 and parameters: {'n_estimators': 956, 'learning_rate': 0.03216092552535667}. Best is trial 45 with value: 0.12861118815028508.\n",
      "[I 2025-02-06 17:20:48,714] Trial 59 finished with value: 0.15684742230614945 and parameters: {'n_estimators': 385, 'learning_rate': 0.04777076444567582}. Best is trial 45 with value: 0.12861118815028508.\n",
      "[I 2025-02-06 17:20:48,843] Trial 60 finished with value: 0.13480017232020408 and parameters: {'n_estimators': 185, 'learning_rate': 0.041526386656220285}. Best is trial 45 with value: 0.12861118815028508.\n",
      "[I 2025-02-06 17:20:49,014] Trial 61 finished with value: 0.1306810236036466 and parameters: {'n_estimators': 237, 'learning_rate': 0.020992570197344906}. Best is trial 45 with value: 0.12861118815028508.\n",
      "[I 2025-02-06 17:20:49,208] Trial 62 finished with value: 0.13006111121073327 and parameters: {'n_estimators': 266, 'learning_rate': 0.026451087848989422}. Best is trial 45 with value: 0.12861118815028508.\n",
      "[I 2025-02-06 17:20:49,318] Trial 63 finished with value: 0.14257681675151065 and parameters: {'n_estimators': 139, 'learning_rate': 0.07604198186698669}. Best is trial 45 with value: 0.12861118815028508.\n",
      "[I 2025-02-06 17:20:49,471] Trial 64 finished with value: 0.13102392118128464 and parameters: {'n_estimators': 217, 'learning_rate': 0.021958808551755707}. Best is trial 45 with value: 0.12861118815028508.\n",
      "[I 2025-02-06 17:20:49,681] Trial 65 finished with value: 0.13294394896794312 and parameters: {'n_estimators': 287, 'learning_rate': 0.009841153451741736}. Best is trial 45 with value: 0.12861118815028508.\n",
      "[I 2025-02-06 17:20:49,924] Trial 66 finished with value: 0.13028601828630595 and parameters: {'n_estimators': 329, 'learning_rate': 0.01703786392432459}. Best is trial 45 with value: 0.12861118815028508.\n",
      "[I 2025-02-06 17:20:50,034] Trial 67 finished with value: 0.1329131371717649 and parameters: {'n_estimators': 120, 'learning_rate': 0.03525187304973373}. Best is trial 45 with value: 0.12861118815028508.\n",
      "[I 2025-02-06 17:20:50,201] Trial 68 finished with value: 0.13075157049607244 and parameters: {'n_estimators': 173, 'learning_rate': 0.024539790776056194}. Best is trial 45 with value: 0.12861118815028508.\n",
      "[I 2025-02-06 17:20:50,365] Trial 69 finished with value: 0.13194830006129044 and parameters: {'n_estimators': 219, 'learning_rate': 0.027565870028495428}. Best is trial 45 with value: 0.12861118815028508.\n",
      "[I 2025-02-06 17:20:50,552] Trial 70 finished with value: 0.13405329562405316 and parameters: {'n_estimators': 251, 'learning_rate': 0.03108794878489668}. Best is trial 45 with value: 0.12861118815028508.\n",
      "[I 2025-02-06 17:20:50,745] Trial 71 finished with value: 0.1298025504162558 and parameters: {'n_estimators': 297, 'learning_rate': 0.019658810812048427}. Best is trial 45 with value: 0.12861118815028508.\n",
      "[I 2025-02-06 17:20:50,894] Trial 72 finished with value: 0.13484172426606506 and parameters: {'n_estimators': 194, 'learning_rate': 0.0134369855844285}. Best is trial 45 with value: 0.12861118815028508.\n",
      "[I 2025-02-06 17:20:51,134] Trial 73 finished with value: 0.1315286274301936 and parameters: {'n_estimators': 365, 'learning_rate': 0.018738657692226796}. Best is trial 45 with value: 0.12861118815028508.\n",
      "[I 2025-02-06 17:20:51,419] Trial 74 finished with value: 0.13935143966653665 and parameters: {'n_estimators': 427, 'learning_rate': 0.023070069198303695}. Best is trial 45 with value: 0.12861118815028508.\n",
      "[I 2025-02-06 17:20:51,626] Trial 75 finished with value: 0.13135039497345696 and parameters: {'n_estimators': 275, 'learning_rate': 0.01651538753285333}. Best is trial 45 with value: 0.12861118815028508.\n",
      "[I 2025-02-06 17:20:51,740] Trial 76 finished with value: 0.3716401099525376 and parameters: {'n_estimators': 152, 'learning_rate': 0.0038941720592277004}. Best is trial 45 with value: 0.12861118815028508.\n",
      "[I 2025-02-06 17:20:51,993] Trial 77 finished with value: 0.1325128286615154 and parameters: {'n_estimators': 327, 'learning_rate': 0.010660666093016337}. Best is trial 45 with value: 0.12861118815028508.\n",
      "[I 2025-02-06 17:20:52,144] Trial 78 finished with value: 0.1386845706903758 and parameters: {'n_estimators': 229, 'learning_rate': 0.0369569911301808}. Best is trial 45 with value: 0.12861118815028508.\n",
      "[I 2025-02-06 17:20:52,271] Trial 79 finished with value: 0.1329017949921225 and parameters: {'n_estimators': 119, 'learning_rate': 0.026223312477138747}. Best is trial 45 with value: 0.12861118815028508.\n",
      "[I 2025-02-06 17:20:52,496] Trial 80 finished with value: 0.12957277176005286 and parameters: {'n_estimators': 298, 'learning_rate': 0.020312079374996874}. Best is trial 45 with value: 0.12861118815028508.\n",
      "[I 2025-02-06 17:20:52,680] Trial 81 finished with value: 0.1336216874393933 and parameters: {'n_estimators': 263, 'learning_rate': 0.029958649247088825}. Best is trial 45 with value: 0.12861118815028508.\n",
      "[I 2025-02-06 17:20:52,824] Trial 82 finished with value: 0.1327913813608118 and parameters: {'n_estimators': 184, 'learning_rate': 0.01903109533931645}. Best is trial 45 with value: 0.12861118815028508.\n",
      "[I 2025-02-06 17:20:53,249] Trial 83 finished with value: 0.13224854334181121 and parameters: {'n_estimators': 214, 'learning_rate': 0.033368029186258266}. Best is trial 45 with value: 0.12861118815028508.\n",
      "[I 2025-02-06 17:20:54,064] Trial 84 finished with value: 0.1328406073304003 and parameters: {'n_estimators': 161, 'learning_rate': 0.023683330612607932}. Best is trial 45 with value: 0.12861118815028508.\n",
      "[I 2025-02-06 17:20:54,913] Trial 85 finished with value: 0.13131258040062052 and parameters: {'n_estimators': 274, 'learning_rate': 0.014786058793160736}. Best is trial 45 with value: 0.12861118815028508.\n",
      "[I 2025-02-06 17:20:55,725] Trial 86 finished with value: 0.13316380886489537 and parameters: {'n_estimators': 315, 'learning_rate': 0.027315129995526814}. Best is trial 45 with value: 0.12861118815028508.\n",
      "[I 2025-02-06 17:20:56,201] Trial 87 finished with value: 0.13009699035422925 and parameters: {'n_estimators': 248, 'learning_rate': 0.02058872786559873}. Best is trial 45 with value: 0.12861118815028508.\n",
      "[I 2025-02-06 17:20:57,044] Trial 88 finished with value: 0.1315491511953761 and parameters: {'n_estimators': 402, 'learning_rate': 0.017015020752579574}. Best is trial 45 with value: 0.12861118815028508.\n",
      "[I 2025-02-06 17:20:57,195] Trial 89 finished with value: 0.1386632661662873 and parameters: {'n_estimators': 202, 'learning_rate': 0.011703017230258897}. Best is trial 45 with value: 0.12861118815028508.\n",
      "[I 2025-02-06 17:20:57,469] Trial 90 finished with value: 0.16999958429004725 and parameters: {'n_estimators': 446, 'learning_rate': 0.06337965244947366}. Best is trial 45 with value: 0.12861118815028508.\n",
      "[I 2025-02-06 17:20:57,681] Trial 91 finished with value: 0.13219954515512755 and parameters: {'n_estimators': 302, 'learning_rate': 0.020158060413191542}. Best is trial 45 with value: 0.12861118815028508.\n",
      "[I 2025-02-06 17:20:58,158] Trial 92 finished with value: 0.1569987510055377 and parameters: {'n_estimators': 858, 'learning_rate': 0.02186100496687838}. Best is trial 45 with value: 0.12861118815028508.\n",
      "[I 2025-02-06 17:20:58,374] Trial 93 finished with value: 0.13462535981136714 and parameters: {'n_estimators': 343, 'learning_rate': 0.02475667082350944}. Best is trial 45 with value: 0.12861118815028508.\n",
      "[I 2025-02-06 17:20:58,588] Trial 94 finished with value: 0.13425275368285478 and parameters: {'n_estimators': 291, 'learning_rate': 0.029938491380101958}. Best is trial 45 with value: 0.12861118815028508.\n",
      "[I 2025-02-06 17:20:58,811] Trial 95 finished with value: 0.1626552059400877 and parameters: {'n_estimators': 371, 'learning_rate': 0.05281181053637641}. Best is trial 45 with value: 0.12861118815028508.\n",
      "[I 2025-02-06 17:20:59,124] Trial 96 finished with value: 0.13201566757739028 and parameters: {'n_estimators': 500, 'learning_rate': 0.01455142156188169}. Best is trial 45 with value: 0.12861118815028508.\n",
      "[I 2025-02-06 17:20:59,289] Trial 97 finished with value: 0.13263132612752143 and parameters: {'n_estimators': 238, 'learning_rate': 0.026135316144204904}. Best is trial 45 with value: 0.12861118815028508.\n",
      "[I 2025-02-06 17:20:59,419] Trial 98 finished with value: 0.18262049603047378 and parameters: {'n_estimators': 176, 'learning_rate': 0.008215214427942017}. Best is trial 45 with value: 0.12861118815028508.\n",
      "[I 2025-02-06 17:20:59,636] Trial 99 finished with value: 0.12782969267871547 and parameters: {'n_estimators': 257, 'learning_rate': 0.022247240955584915}. Best is trial 99 with value: 0.12782969267871547.\n"
     ]
    }
   ],
   "source": [
    "import optuna\n",
    "study = optuna.create_study(direction='minimize')  # Minimize error\n",
    "study.optimize(objective, n_trials=100)"
   ]
  },
  {
   "cell_type": "markdown",
   "metadata": {
    "id": "OIPTqy6VInf-"
   },
   "source": [
    "### **XGBoost Hyperparameter Tuning Results**\n",
    "\"We see that **Best Hyperparameters Found: Random Forest**, but previously our model was **Random Forest**, so we forgot to change the name. I am not going to re-run the notebook as it may cause a data mismatch, so this is just for reference.  \n",
    "\n",
    "Final information:  \n",
    "\n",
    "**Best Hyperparameters Found: XGBoost**  \n",
    "- Parameters: `{'n_estimators': 257, 'learning_rate': 0.022247240955584915}`  \n",
    "- Best Objective Value (MSE): **0.12782969267871547**  \n",
    "\n",
    "**Best Trials Summary:**  \n",
    "- Trials: `[FrozenTrial(number=99, state=1, values=[0.12782969267871547], datetime_start=datetime.datetime(2025, 2, 6, 17, 20, 59, 423803)...]`"
   ]
  },
  {
   "cell_type": "code",
   "execution_count": null,
   "metadata": {
    "colab": {
     "base_uri": "https://localhost:8080/"
    },
    "executionInfo": {
     "elapsed": 22,
     "status": "ok",
     "timestamp": 1738862500383,
     "user": {
      "displayName": "Shyanil Mishra",
      "userId": "02076940410951200209"
     },
     "user_tz": -330
    },
    "id": "K3qYNWL8L-kH",
    "outputId": "0e52742f-8aa7-475c-bcd2-f1adf41d3b0f"
   },
   "outputs": [
    {
     "name": "stdout",
     "output_type": "stream",
     "text": [
      "Best Hyperparameters Found: Random Forest \n",
      "  Parameters: {'n_estimators': 257, 'learning_rate': 0.022247240955584915}\n",
      "  Best Objective Value /mse: 0.12782969267871547\n",
      "Best Trials Summary:\n",
      "  Trials: [FrozenTrial(number=99, state=1, values=[0.12782969267871547], datetime_start=datetime.datetime(2025, 2, 6, 17, 20, 59, 423803), datetime_complete=datetime.datetime(2025, 2, 6, 17, 20, 59, 636208), params={'n_estimators': 257, 'learning_rate': 0.022247240955584915}, user_attrs={}, system_attrs={}, intermediate_values={}, distributions={'n_estimators': IntDistribution(high=1000, log=False, low=100, step=1), 'learning_rate': FloatDistribution(high=0.1, log=False, low=0.001, step=None)}, trial_id=99, value=None)]\n"
     ]
    }
   ],
   "source": [
    "print(\"Best Hyperparameters Found: Random Forest \")\n",
    "print(f\"  Parameters: {study.best_params}\")\n",
    "print(f\"  Best Objective Value /mse: {study.best_value}\")\n",
    "print(\"Best Trials Summary:\")\n",
    "print(f\"  Trials: {study.best_trials}\")"
   ]
  },
  {
   "cell_type": "code",
   "execution_count": null,
   "metadata": {
    "colab": {
     "base_uri": "https://localhost:8080/"
    },
    "executionInfo": {
     "elapsed": 13,
     "status": "ok",
     "timestamp": 1738862500384,
     "user": {
      "displayName": "Shyanil Mishra",
      "userId": "02076940410951200209"
     },
     "user_tz": -330
    },
    "id": "gWTRC8UbMQrX",
    "outputId": "1cefa1d9-a91f-4b0a-8d01-bb40ebc3a555"
   },
   "outputs": [
    {
     "name": "stdout",
     "output_type": "stream",
     "text": [
      "For training set {Make no sense but }\n",
      "--- Performance Evaluation ---\n",
      "\n",
      "1. Mean Squared Error (MSE): 0.0473\n",
      "   - MSE calculates the average of the squared differences between the predicted and actual values. It penalizes larger errors more heavily, making it a sensitive measure of overall prediction accuracy.\n",
      "\n",
      "2. Scaled Mean Squared Error (MSE/2): 0.0236\n",
      "   - This is a scaled version of MSE, used for specific use cases. Here, it is scaled down by dividing by 2 to see a more normalized value.\n",
      "\n",
      "3. Mean Absolute Error (MAE): 0.1137\n",
      "   - MAE represents the average of the absolute errors. It is more intuitive than MSE since it measures the average magnitude of errors without considering their direction (positive or negative).\n",
      "\n",
      "4. Root Mean Squared Error (RMSE): 0.2174\n",
      "   - RMSE gives an idea of the magnitude of the error in the same units as the target variable. It is useful when you want to assess the absolute error and is particularly sensitive to large errors.\n",
      "\n",
      "5. Mean Absolute Percentage Error (MAPE): 0.0125%\n",
      "   - MAPE expresses the error as a percentage of the actual values, providing a relative measure of prediction accuracy. It is useful when comparing performance across different datasets or models.\n",
      "\n"
     ]
    }
   ],
   "source": [
    "best_param = study.best_params\n",
    "XGmodel = XGBRegressor(**best_param)\n",
    "XGmodel.fit(X_train , y_train)\n",
    "y_train_predict = XGmodel.predict(X_train)\n",
    "print('For training set {Make no sense but }')\n",
    "evaluate_regression_performance(y_train , y_train_predict)"
   ]
  },
  {
   "cell_type": "code",
   "execution_count": null,
   "metadata": {
    "colab": {
     "base_uri": "https://localhost:8080/"
    },
    "executionInfo": {
     "elapsed": 550,
     "status": "ok",
     "timestamp": 1738862500925,
     "user": {
      "displayName": "Shyanil Mishra",
      "userId": "02076940410951200209"
     },
     "user_tz": -330
    },
    "id": "ZxTL0mosNCs-",
    "outputId": "8589d7d8-0da8-4a54-a728-56e982b1a47a"
   },
   "outputs": [
    {
     "name": "stdout",
     "output_type": "stream",
     "text": [
      "For CV set\n",
      "--- Performance Evaluation ---\n",
      "\n",
      "1. Mean Squared Error (MSE): 0.1278\n",
      "   - MSE calculates the average of the squared differences between the predicted and actual values. It penalizes larger errors more heavily, making it a sensitive measure of overall prediction accuracy.\n",
      "\n",
      "2. Scaled Mean Squared Error (MSE/2): 0.0639\n",
      "   - This is a scaled version of MSE, used for specific use cases. Here, it is scaled down by dividing by 2 to see a more normalized value.\n",
      "\n",
      "3. Mean Absolute Error (MAE): 0.2022\n",
      "   - MAE represents the average of the absolute errors. It is more intuitive than MSE since it measures the average magnitude of errors without considering their direction (positive or negative).\n",
      "\n",
      "4. Root Mean Squared Error (RMSE): 0.3575\n",
      "   - RMSE gives an idea of the magnitude of the error in the same units as the target variable. It is useful when you want to assess the absolute error and is particularly sensitive to large errors.\n",
      "\n",
      "5. Mean Absolute Percentage Error (MAPE): 0.0228%\n",
      "   - MAPE expresses the error as a percentage of the actual values, providing a relative measure of prediction accuracy. It is useful when comparing performance across different datasets or models.\n",
      "\n"
     ]
    }
   ],
   "source": [
    "y_cv_predict = XGmodel.predict(X_cv)\n",
    "print('For CV set')\n",
    "evaluate_regression_performance(y_cv , y_cv_predict)"
   ]
  },
  {
   "cell_type": "code",
   "execution_count": null,
   "metadata": {
    "colab": {
     "base_uri": "https://localhost:8080/"
    },
    "executionInfo": {
     "elapsed": 11,
     "status": "ok",
     "timestamp": 1738862500925,
     "user": {
      "displayName": "Shyanil Mishra",
      "userId": "02076940410951200209"
     },
     "user_tz": -330
    },
    "id": "EAuQ_T7jNWkm",
    "outputId": "d47214b6-256e-4e8a-e7d0-a7286f85526c"
   },
   "outputs": [
    {
     "name": "stdout",
     "output_type": "stream",
     "text": [
      "For Test set\n",
      "--- Performance Evaluation ---\n",
      "\n",
      "1. Mean Squared Error (MSE): 0.1533\n",
      "   - MSE calculates the average of the squared differences between the predicted and actual values. It penalizes larger errors more heavily, making it a sensitive measure of overall prediction accuracy.\n",
      "\n",
      "2. Scaled Mean Squared Error (MSE/2): 0.0767\n",
      "   - This is a scaled version of MSE, used for specific use cases. Here, it is scaled down by dividing by 2 to see a more normalized value.\n",
      "\n",
      "3. Mean Absolute Error (MAE): 0.1987\n",
      "   - MAE represents the average of the absolute errors. It is more intuitive than MSE since it measures the average magnitude of errors without considering their direction (positive or negative).\n",
      "\n",
      "4. Root Mean Squared Error (RMSE): 0.3916\n",
      "   - RMSE gives an idea of the magnitude of the error in the same units as the target variable. It is useful when you want to assess the absolute error and is particularly sensitive to large errors.\n",
      "\n",
      "5. Mean Absolute Percentage Error (MAPE): 0.0218%\n",
      "   - MAPE expresses the error as a percentage of the actual values, providing a relative measure of prediction accuracy. It is useful when comparing performance across different datasets or models.\n",
      "\n"
     ]
    }
   ],
   "source": [
    "y_test_predict = XGmodel.predict(X_test)\n",
    "print('For Test set')\n",
    "evaluate_regression_performance(y_test , y_test_predict)"
   ]
  },
  {
   "cell_type": "markdown",
   "metadata": {
    "id": "zOK92E3AHTx_"
   },
   "source": [
    "### **Final Model Selection and Deployment**  \n",
    "\n",
    "After evaluating various models, we achieved the **lowest error** using the **XGBoost Regressor**. Given its superior performance, we **saved the trained model**, making it ready for deployment.  \n",
    "\n",
    "With this, our **machine learning model is now complete and optimized** for accurate predictions. 🚀  \n"
   ]
  },
  {
   "cell_type": "code",
   "execution_count": null,
   "metadata": {
    "colab": {
     "base_uri": "https://localhost:8080/"
    },
    "executionInfo": {
     "elapsed": 533,
     "status": "ok",
     "timestamp": 1738862936222,
     "user": {
      "displayName": "Shyanil Mishra",
      "userId": "02076940410951200209"
     },
     "user_tz": -330
    },
    "id": "GBjRc6BqTaii",
    "outputId": "cbb06dc7-97df-4bfc-bb14-4d3b6cbde9d7"
   },
   "outputs": [
    {
     "name": "stdout",
     "output_type": "stream",
     "text": [
      "'3)  insurance_Decision_tree.ipynb'    insurance_parametric_regression.ipynb\n",
      " insurance.csv\t\t\t      'XGBoost 4)insurance_Decision_tree'\n",
      " insurance_ipynb_visualization.ipynb\n"
     ]
    }
   ],
   "source": [
    "!ls \"/content/drive/My Drive/Colab Notebooks/Insurance project\"\n"
   ]
  },
  {
   "cell_type": "code",
   "execution_count": null,
   "metadata": {
    "colab": {
     "base_uri": "https://localhost:8080/"
    },
    "executionInfo": {
     "elapsed": 494,
     "status": "ok",
     "timestamp": 1738863013020,
     "user": {
      "displayName": "Shyanil Mishra",
      "userId": "02076940410951200209"
     },
     "user_tz": -330
    },
    "id": "HDIHuDz9JO5l",
    "outputId": "f987203c-32e9-4d50-a819-a560170c473f"
   },
   "outputs": [
    {
     "name": "stdout",
     "output_type": "stream",
     "text": [
      "Model saved successfully in Google Drive at: /content/drive/My Drive/Colab Notebooks/Insurance project/best_xgboost_model.json\n"
     ]
    }
   ],
   "source": [
    "drive_path = \"/content/drive/My Drive/Colab Notebooks/Insurance project/best_xgboost_model.json\"\n",
    "\n",
    "try:\n",
    "    XGmodel.save_model(drive_path)\n",
    "    print(f\"Model saved successfully in Google Drive at: {drive_path}\")\n",
    "except Exception as e:\n",
    "    print(f\"Error saving model: {e}\")# Saves in JSON format"
   ]
  }
 ],
 "metadata": {
  "colab": {
   "provenance": [
    {
     "file_id": "/v2/external/notebooks/empty.ipynb",
     "timestamp": 1738860422708
    }
   ],
   "toc_visible": true
  },
  "kernelspec": {
   "display_name": "Python 3",
   "name": "python3"
  }
 },
 "nbformat": 4,
 "nbformat_minor": 0
}
